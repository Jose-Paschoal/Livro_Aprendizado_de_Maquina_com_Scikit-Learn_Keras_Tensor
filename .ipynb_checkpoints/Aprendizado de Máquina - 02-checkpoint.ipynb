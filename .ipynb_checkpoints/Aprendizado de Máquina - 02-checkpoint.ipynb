{
 "cells": [
  {
   "cell_type": "markdown",
   "id": "8057ec3f-cad7-4f68-8693-d708d3c51de1",
   "metadata": {},
   "source": [
    "# Modelo de Classificação - Dataset MNIST"
   ]
  },
  {
   "cell_type": "code",
   "execution_count": 4,
   "id": "dc2dcb98-7805-475f-a7ba-f07e12359d73",
   "metadata": {},
   "outputs": [
    {
     "data": {
      "image/png": "[encoded data removed]",
      "text/plain": [
       "<Figure size 640x480 with 1 Axes>"
      ]
     },
     "metadata": {},
     "output_type": "display_data"
    }
   ],
   "source": [
    "# importando as bibliotecas\n",
    "\n",
    "import matplotlib.pyplot as plt\n",
    "from sklearn.datasets import fetch_openml\n",
    "import numpy as np\n",
    "import pandas as pd\n",
    "\n",
    "# Importar o conjunto de dados MNIST\n",
    "df = fetch_openml('mnist_784', version=1, parser='auto')\n",
    "\n",
    "# Acessar as imagens e rótulos do conjunto de dados MNIST\n",
    "X = df['data']\n",
    "y = df['target']\n",
    "\n",
    "# Escolher um índice específico (por exemplo, 0) para visualizar uma imagem\n",
    "index = 0\n",
    "\n",
    "# Reshape da imagem para 28x28 pixels (formato original é plano com 784 pixels)\n",
    "image_reshaped = X.iloc[index].to_numpy().reshape(28, 28)\n",
    "\n",
    "# Plotar a imagem\n",
    "plt.imshow(image_reshaped, cmap='gray')\n",
    "plt.title(f'Label: {y.iloc[index]}')\n",
    "plt.show()"
   ]
  },
  {
   "cell_type": "code",
   "execution_count": 5,
   "id": "00ef53c3-c2cd-40f2-a03b-8875c2cc8c23",
   "metadata": {},
   "outputs": [],
   "source": [
    "## convertendo os dados que estão em string em int\n",
    "\n",
    "y = y.astype(np.uint8)"
   ]
  },
  {
   "cell_type": "markdown",
   "id": "55a6b34a-0129-47c8-8ca1-c280f5041d38",
   "metadata": {},
   "source": [
    "## Separação em Treino e Teste"
   ]
  },
  {
   "cell_type": "code",
   "execution_count": 6,
   "id": "a8bbb776-55c4-4f33-96b0-d13c0ce5370f",
   "metadata": {},
   "outputs": [],
   "source": [
    "X_train, X_test, y_train, y_test = X[:60000], X[60000:], y[:60000], y[60000:]"
   ]
  },
  {
   "cell_type": "markdown",
   "id": "5da61ea5-f8ea-4f1b-a879-f2408b1ab954",
   "metadata": {},
   "source": [
    "### 1.1 - Treinando um Classificador BInário"
   ]
  },
  {
   "cell_type": "markdown",
   "id": "73c428d8-2697-481e-ae47-de1fa91e9151",
   "metadata": {},
   "source": [
    "Vamos seguir com um teste tentando identificar apenas um algarismo, no caso o '5'"
   ]
  },
  {
   "cell_type": "code",
   "execution_count": 7,
   "id": "ef49c0ec-9022-473b-ad21-7bd2a567a589",
   "metadata": {},
   "outputs": [],
   "source": [
    "## 5-detector\n",
    "\n",
    "y_train_5 = (y_train == 5)\n",
    "\n",
    "y_test_5 = (y_test == 5)"
   ]
  },
  {
   "cell_type": "markdown",
   "id": "6278cf98-afab-4ce4-9b70-85723e9657ea",
   "metadata": {},
   "source": [
    "### 1.2 -Escolhendo um Classificador"
   ]
  },
  {
   "cell_type": "code",
   "execution_count": 11,
   "id": "f1e87609-634d-4dab-841f-edc3d4d89f18",
   "metadata": {},
   "outputs": [
    {
     "name": "stderr",
     "output_type": "stream",
     "text": [
      "C:\\Users\\pasch\\anaconda3\\lib\\site-packages\\sklearn\\base.py:464: UserWarning: X does not have valid feature names, but SGDClassifier was fitted with feature names\n",
      "  warnings.warn(\n"
     ]
    },
    {
     "data": {
      "text/plain": [
       "array([ True])"
      ]
     },
     "execution_count": 11,
     "metadata": {},
     "output_type": "execute_result"
    }
   ],
   "source": [
    "from sklearn.linear_model import SGDClassifier\n",
    "\n",
    "sgd_clf = SGDClassifier(random_state=42)\n",
    "sgd_clf.fit(X_train, y_train_5)\n",
    "\n",
    "## testando a previsão dos '5'\n",
    "\n",
    "some_digit = X.iloc[0].to_numpy()\n",
    "some_digit = some_digit.reshape(1, -1)\n",
    "\n",
    "\n",
    "sgd_clf.predict(some_digit)"
   ]
  },
  {
   "cell_type": "code",
   "execution_count": null,
   "id": "483c7c0d-2960-4eb0-9b0d-58161bcf5f1c",
   "metadata": {},
   "outputs": [],
   "source": []
  }
 ],
 "metadata": {
  "kernelspec": {
   "display_name": "Python 3 (ipykernel)",
   "language": "python",
   "name": "python3"
  },
  "language_info": {
   "codemirror_mode": {
    "name": "ipython",
    "version": 3
   },
   "file_extension": ".py",
   "mimetype": "text/x-python",
   "name": "python",
   "nbconvert_exporter": "python",
   "pygments_lexer": "ipython3",
   "version": "3.8.18"
  }
 },
 "nbformat": 4,
 "nbformat_minor": 5
}
